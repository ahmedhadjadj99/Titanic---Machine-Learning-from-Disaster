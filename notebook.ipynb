{
 "cells": [
  {
   "cell_type": "code",
   "execution_count": 1,
   "metadata": {},
   "outputs": [
    {
     "name": "stderr",
     "output_type": "stream",
     "text": [
      "e:\\Anaconda\\envs\\ahmed_env\\lib\\site-packages\\scipy\\__init__.py:146: UserWarning: A NumPy version >=1.16.5 and <1.23.0 is required for this version of SciPy (detected version 1.23.0\n",
      "  warnings.warn(f\"A NumPy version >={np_minversion} and <{np_maxversion}\"\n"
     ]
    }
   ],
   "source": [
    "import pandas as pd\n",
    "import numpy as np\n",
    "import sklearn as sk\n",
    "from sklearn.preprocessing import OneHotEncoder\n",
    "from sklearn.preprocessing import LabelEncoder\n"
   ]
  },
  {
   "cell_type": "code",
   "execution_count": 2,
   "metadata": {},
   "outputs": [],
   "source": [
    "from sklearn.model_selection import  train_test_split"
   ]
  },
  {
   "cell_type": "code",
   "execution_count": 3,
   "metadata": {},
   "outputs": [],
   "source": [
    "train_data=pd.read_csv('titanic/train.csv')"
   ]
  },
  {
   "cell_type": "code",
   "execution_count": 4,
   "metadata": {},
   "outputs": [],
   "source": [
    "test_data=pd.read_csv('titanic/test.csv')"
   ]
  },
  {
   "cell_type": "markdown",
   "metadata": {},
   "source": [
    "#### Fill missing Cabin cells"
   ]
  },
  {
   "cell_type": "code",
   "execution_count": 5,
   "metadata": {},
   "outputs": [],
   "source": [
    "\n",
    "for i in range(len(train_data['Cabin'])):\n",
    "    try:\n",
    "        train_data.at[i,'Cabin']=train_data.at[i,'Cabin'][0]\n",
    "    except:\n",
    "        train_data.at[i,'Cabin']='No Cabin'"
   ]
  },
  {
   "cell_type": "code",
   "execution_count": 6,
   "metadata": {},
   "outputs": [],
   "source": [
    "\n",
    "for i in range(len(test_data['Cabin'])):\n",
    "    try:\n",
    "        test_data.at[i,'Cabin']=test_data.at[i,'Cabin'][0]\n",
    "    except:\n",
    "        test_data.at[i,'Cabin']='No Cabin'"
   ]
  },
  {
   "cell_type": "markdown",
   "metadata": {},
   "source": [
    "### Drop tickets"
   ]
  },
  {
   "cell_type": "code",
   "execution_count": 7,
   "metadata": {},
   "outputs": [],
   "source": [
    "train_data = train_data.drop(['Ticket'], axis=1)\n",
    "test_data = test_data.drop(['Ticket'], axis=1)"
   ]
  },
  {
   "cell_type": "markdown",
   "metadata": {},
   "source": [
    "### Obtain title, fill the age with median corresponding title, change rare titles, and categorize ages"
   ]
  },
  {
   "cell_type": "code",
   "execution_count": 8,
   "metadata": {},
   "outputs": [],
   "source": [
    "train_data['Name']=train_data['Name'].apply(lambda x: x.split(\",\")[1].split(\".\")[0])\n",
    "test_data['Name']=test_data['Name'].apply(lambda x: x.split(\",\")[1].split(\".\")[0])\n",
    "temp_df=train_data[['Name','Age']]\n",
    "temp_df=temp_df.groupby('Name').aggregate({'Age': [np.median, np.count_nonzero]})\n",
    "temp_df=pd.DataFrame({'Name':list(temp_df.index),'Age':list(temp_df.values.flatten('F'))[0:len(temp_df)],\n",
    "'Count':list(temp_df.values.flatten('F'))[len(temp_df):]})\n",
    "temp_df=temp_df.T\n",
    "temp_df.columns = temp_df.iloc[0]\n",
    "temp_df = temp_df[1:]"
   ]
  },
  {
   "cell_type": "code",
   "execution_count": 9,
   "metadata": {},
   "outputs": [],
   "source": [
    "\n",
    "test_data=test_data.replace(np.nan,-1) #this will also modify the Embarked column\n",
    "#fill missing age\n",
    "for i in range(len(test_data['Name'])):\n",
    "    if test_data.at[i,'Age']==-1:\n",
    "        test_data.at[i,'Age']=temp_df.iloc[0][test_data.at[i,'Name']]\n",
    "#replace rare titles\n",
    "for i in range(len(test_data['Name'])):\n",
    "    try:\n",
    "        if temp_df.at['Count',test_data.at[i,'Name']]<8:\n",
    "            test_data.at[i,'Name']=' Rare'\n",
    "    except:\n",
    "        test_data.at[i,'Name']=' Rare'"
   ]
  },
  {
   "cell_type": "code",
   "execution_count": 10,
   "metadata": {},
   "outputs": [],
   "source": [
    "\n",
    "train_data=train_data.replace(np.nan,-1) #this will also modify the Embarked column\n",
    "#fill missing age\n",
    "for i in range(len(train_data['Name'])):\n",
    "    if train_data.at[i,'Age']==-1:\n",
    "        train_data.at[i,'Age']=temp_df.iloc[0][train_data.at[i,'Name']]\n",
    "#replace rare titles\n",
    "for i in range(len(train_data['Name'])):\n",
    "    try:\n",
    "        if temp_df.at['Count',train_data.at[i,'Name']]<8:\n",
    "            train_data.at[i,'Name']=' Rare'\n",
    "    except:\n",
    "        train_data.at[i,'Name']=' Rare'"
   ]
  },
  {
   "cell_type": "code",
   "execution_count": 11,
   "metadata": {},
   "outputs": [],
   "source": [
    "train_data['Age'] = train_data['Age'].astype(int)\n",
    "train_data.loc[ train_data['Age'] <= 11, 'Age'] = 0\n",
    "train_data.loc[(train_data['Age'] > 11) & (train_data['Age'] <= 18), 'Age'] = 1\n",
    "train_data.loc[(train_data['Age'] > 18) & (train_data['Age'] <= 22), 'Age'] = 2\n",
    "train_data.loc[(train_data['Age'] > 22) & (train_data['Age'] <= 27), 'Age'] = 3\n",
    "train_data.loc[(train_data['Age'] > 27) & (train_data['Age'] <= 33), 'Age'] = 4\n",
    "train_data.loc[(train_data['Age'] > 33) & (train_data['Age'] <= 40), 'Age'] = 5\n",
    "train_data.loc[(train_data['Age'] > 40) & (train_data['Age'] <= 66), 'Age'] = 6\n",
    "train_data.loc[ train_data['Age'] > 66, 'Age'] = 6"
   ]
  },
  {
   "cell_type": "code",
   "execution_count": 12,
   "metadata": {},
   "outputs": [],
   "source": [
    "test_data['Age'] = test_data['Age'].astype(int)\n",
    "test_data.loc[ test_data['Age'] <= 11, 'Age'] = 0\n",
    "test_data.loc[(test_data['Age'] > 11) & (test_data['Age'] <= 18), 'Age'] = 1\n",
    "test_data.loc[(test_data['Age'] > 18) & (test_data['Age'] <= 22), 'Age'] = 2\n",
    "test_data.loc[(test_data['Age'] > 22) & (test_data['Age'] <= 27), 'Age'] = 3\n",
    "test_data.loc[(test_data['Age'] > 27) & (test_data['Age'] <= 33), 'Age'] = 4\n",
    "test_data.loc[(test_data['Age'] > 33) & (test_data['Age'] <= 40), 'Age'] = 5\n",
    "test_data.loc[(test_data['Age'] > 40) & (test_data['Age'] <= 66), 'Age'] = 6\n",
    "test_data.loc[ test_data['Age'] > 66, 'Age'] = 6"
   ]
  },
  {
   "cell_type": "markdown",
   "metadata": {},
   "source": [
    "### Code sexes"
   ]
  },
  {
   "cell_type": "code",
   "execution_count": 13,
   "metadata": {},
   "outputs": [],
   "source": [
    "\n",
    "train_data['Sex']=train_data['Sex'].apply(lambda x: 1 if x=='male' else 0)\n",
    "\n",
    "test_data['Sex']=test_data['Sex'].apply(lambda x: 1 if x=='male' else 0)\n"
   ]
  },
  {
   "cell_type": "markdown",
   "metadata": {},
   "source": [
    "### Replace misiing Embarked cells"
   ]
  },
  {
   "cell_type": "code",
   "execution_count": 14,
   "metadata": {},
   "outputs": [],
   "source": [
    "\n",
    "train_data['Embarked']=train_data['Embarked'].apply(lambda x: \"X\" if x==-1 else x)\n",
    "\n",
    "test_data['Embarked']=test_data['Embarked'].apply(lambda x: \"X\" if x==-1 else x)\n"
   ]
  },
  {
   "cell_type": "markdown",
   "metadata": {},
   "source": [
    "### catigorize Fares"
   ]
  },
  {
   "cell_type": "code",
   "execution_count": 15,
   "metadata": {},
   "outputs": [],
   "source": [
    "test_data['Fare']=test_data['Fare'].apply(lambda x: 20 if x<0 else x)"
   ]
  },
  {
   "cell_type": "code",
   "execution_count": 16,
   "metadata": {},
   "outputs": [],
   "source": [
    "\n",
    "test_data.loc[ test_data['Fare'] <= 7.91, 'Fare'] = 0\n",
    "test_data.loc[(test_data['Fare'] > 7.91) & (test_data['Fare'] <= 14.454), 'Fare'] = 1\n",
    "test_data.loc[(test_data['Fare'] > 14.454) & (test_data['Fare'] <= 31), 'Fare']   = 2\n",
    "test_data.loc[(test_data['Fare'] > 31) & (test_data['Fare'] <= 99), 'Fare']   = 3\n",
    "test_data.loc[(test_data['Fare'] > 99) & (test_data['Fare'] <= 250), 'Fare']   = 4\n",
    "test_data.loc[ test_data['Fare'] > 250, 'Fare'] = 5\n",
    "test_data['Fare'] = test_data['Fare'].astype(int)"
   ]
  },
  {
   "cell_type": "code",
   "execution_count": 17,
   "metadata": {},
   "outputs": [],
   "source": [
    "\n",
    "train_data.loc[ train_data['Fare'] <= 7.91, 'Fare'] = 0\n",
    "train_data.loc[(train_data['Fare'] > 7.91) & (train_data['Fare'] <= 14.454), 'Fare'] = 1\n",
    "train_data.loc[(train_data['Fare'] > 14.454) & (train_data['Fare'] <= 31), 'Fare']   = 2\n",
    "train_data.loc[(train_data['Fare'] > 31) & (train_data['Fare'] <= 99), 'Fare']   = 3\n",
    "train_data.loc[(train_data['Fare'] > 99) & (train_data['Fare'] <= 250), 'Fare']   = 4\n",
    "train_data.loc[ train_data['Fare'] > 250, 'Fare'] = 5\n",
    "train_data['Fare'] = train_data['Fare'].astype(int)"
   ]
  },
  {
   "cell_type": "markdown",
   "metadata": {},
   "source": [
    "### Add new features"
   ]
  },
  {
   "cell_type": "code",
   "execution_count": 18,
   "metadata": {},
   "outputs": [],
   "source": [
    "train_data['Age_Class']= train_data['Age']* train_data['Pclass']\n",
    "test_data['Age_Class']= test_data['Age']* test_data['Pclass']"
   ]
  },
  {
   "cell_type": "code",
   "execution_count": 19,
   "metadata": {},
   "outputs": [],
   "source": [
    "train_data['relatives'] = train_data['SibSp'] + train_data['Parch']\n",
    "test_data['relatives'] = test_data['SibSp'] + test_data['Parch']"
   ]
  },
  {
   "cell_type": "code",
   "execution_count": 20,
   "metadata": {},
   "outputs": [],
   "source": [
    "train_data['Fare_Per_Person'] = train_data['Fare']/(train_data['relatives']+1)\n",
    "train_data['Fare_Per_Person'] = train_data['Fare_Per_Person'].astype(int)"
   ]
  },
  {
   "cell_type": "code",
   "execution_count": 21,
   "metadata": {},
   "outputs": [],
   "source": [
    "test_data['Fare_Per_Person'] = test_data['Fare']/(test_data['relatives']+1)\n",
    "test_data['Fare_Per_Person'] = test_data['Fare_Per_Person'].astype(int)"
   ]
  },
  {
   "cell_type": "code",
   "execution_count": 22,
   "metadata": {},
   "outputs": [],
   "source": [
    "train_data=train_data.drop(\"Parch\", axis=1)\n",
    "test_data=test_data.drop(\"Parch\", axis=1)"
   ]
  },
  {
   "cell_type": "markdown",
   "metadata": {},
   "source": [
    "### One hot encode dummy variables"
   ]
  },
  {
   "cell_type": "code",
   "execution_count": 23,
   "metadata": {},
   "outputs": [],
   "source": [
    "\n",
    "categorical_cols = ['Name', 'Cabin', 'Embarked'] \n",
    "# instantiate labelencoder object\n",
    "le = LabelEncoder()\n",
    "# apply le on categorical feature columns\n",
    "train_data[categorical_cols] = train_data[categorical_cols].apply(lambda col: le.fit_transform(col))    \n",
    "ohe = OneHotEncoder()\n",
    "\n",
    "categorical_cols = ['Name',  'Cabin', 'Embarked'] \n",
    "# instantiate labelencoder object\n",
    "le = LabelEncoder()\n",
    "# apply le on categorical feature columns\n",
    "test_data[categorical_cols] = test_data[categorical_cols].apply(lambda col: le.fit_transform(col))    \n",
    "ohe = OneHotEncoder()"
   ]
  },
  {
   "cell_type": "code",
   "execution_count": 35,
   "metadata": {},
   "outputs": [],
   "source": [
    "#data_final=pd.get_dummies(data,columns=['Name', 'Ticket', 'Cabin', 'Embarked'] )\n"
   ]
  },
  {
   "cell_type": "code",
   "execution_count": 54,
   "metadata": {},
   "outputs": [],
   "source": [
    "Xtr = train_data.iloc[:, 2:].values\n",
    "Ytr =train_data.iloc[:, 1]"
   ]
  },
  {
   "cell_type": "code",
   "execution_count": 55,
   "metadata": {},
   "outputs": [],
   "source": [
    "Xts=test_data.iloc[:, 1:].values"
   ]
  },
  {
   "cell_type": "code",
   "execution_count": 146,
   "metadata": {},
   "outputs": [],
   "source": [
    "#from sklearn.model_selection import  train_test_split\n",
    "#Xtr,Xts,Ytr,Yts = train_test_split(X,Y,test_size=0.2,random_state=0)"
   ]
  },
  {
   "cell_type": "code",
   "execution_count": 56,
   "metadata": {},
   "outputs": [],
   "source": [
    "from sklearn.preprocessing import StandardScaler\n",
    "sc = StandardScaler()\n",
    "Xtr = sc.fit_transform(Xtr)\n",
    "Xts = sc.transform(Xts)"
   ]
  },
  {
   "cell_type": "code",
   "execution_count": 57,
   "metadata": {},
   "outputs": [
    {
     "data": {
      "text/html": [
       "<style>#sk-container-id-7 {color: black;background-color: white;}#sk-container-id-7 pre{padding: 0;}#sk-container-id-7 div.sk-toggleable {background-color: white;}#sk-container-id-7 label.sk-toggleable__label {cursor: pointer;display: block;width: 100%;margin-bottom: 0;padding: 0.3em;box-sizing: border-box;text-align: center;}#sk-container-id-7 label.sk-toggleable__label-arrow:before {content: \"▸\";float: left;margin-right: 0.25em;color: #696969;}#sk-container-id-7 label.sk-toggleable__label-arrow:hover:before {color: black;}#sk-container-id-7 div.sk-estimator:hover label.sk-toggleable__label-arrow:before {color: black;}#sk-container-id-7 div.sk-toggleable__content {max-height: 0;max-width: 0;overflow: hidden;text-align: left;background-color: #f0f8ff;}#sk-container-id-7 div.sk-toggleable__content pre {margin: 0.2em;color: black;border-radius: 0.25em;background-color: #f0f8ff;}#sk-container-id-7 input.sk-toggleable__control:checked~div.sk-toggleable__content {max-height: 200px;max-width: 100%;overflow: auto;}#sk-container-id-7 input.sk-toggleable__control:checked~label.sk-toggleable__label-arrow:before {content: \"▾\";}#sk-container-id-7 div.sk-estimator input.sk-toggleable__control:checked~label.sk-toggleable__label {background-color: #d4ebff;}#sk-container-id-7 div.sk-label input.sk-toggleable__control:checked~label.sk-toggleable__label {background-color: #d4ebff;}#sk-container-id-7 input.sk-hidden--visually {border: 0;clip: rect(1px 1px 1px 1px);clip: rect(1px, 1px, 1px, 1px);height: 1px;margin: -1px;overflow: hidden;padding: 0;position: absolute;width: 1px;}#sk-container-id-7 div.sk-estimator {font-family: monospace;background-color: #f0f8ff;border: 1px dotted black;border-radius: 0.25em;box-sizing: border-box;margin-bottom: 0.5em;}#sk-container-id-7 div.sk-estimator:hover {background-color: #d4ebff;}#sk-container-id-7 div.sk-parallel-item::after {content: \"\";width: 100%;border-bottom: 1px solid gray;flex-grow: 1;}#sk-container-id-7 div.sk-label:hover label.sk-toggleable__label {background-color: #d4ebff;}#sk-container-id-7 div.sk-serial::before {content: \"\";position: absolute;border-left: 1px solid gray;box-sizing: border-box;top: 0;bottom: 0;left: 50%;z-index: 0;}#sk-container-id-7 div.sk-serial {display: flex;flex-direction: column;align-items: center;background-color: white;padding-right: 0.2em;padding-left: 0.2em;position: relative;}#sk-container-id-7 div.sk-item {position: relative;z-index: 1;}#sk-container-id-7 div.sk-parallel {display: flex;align-items: stretch;justify-content: center;background-color: white;position: relative;}#sk-container-id-7 div.sk-item::before, #sk-container-id-7 div.sk-parallel-item::before {content: \"\";position: absolute;border-left: 1px solid gray;box-sizing: border-box;top: 0;bottom: 0;left: 50%;z-index: -1;}#sk-container-id-7 div.sk-parallel-item {display: flex;flex-direction: column;z-index: 1;position: relative;background-color: white;}#sk-container-id-7 div.sk-parallel-item:first-child::after {align-self: flex-end;width: 50%;}#sk-container-id-7 div.sk-parallel-item:last-child::after {align-self: flex-start;width: 50%;}#sk-container-id-7 div.sk-parallel-item:only-child::after {width: 0;}#sk-container-id-7 div.sk-dashed-wrapped {border: 1px dashed gray;margin: 0 0.4em 0.5em 0.4em;box-sizing: border-box;padding-bottom: 0.4em;background-color: white;}#sk-container-id-7 div.sk-label label {font-family: monospace;font-weight: bold;display: inline-block;line-height: 1.2em;}#sk-container-id-7 div.sk-label-container {text-align: center;}#sk-container-id-7 div.sk-container {/* jupyter's `normalize.less` sets `[hidden] { display: none; }` but bootstrap.min.css set `[hidden] { display: none !important; }` so we also need the `!important` here to be able to override the default hidden behavior on the sphinx rendered scikit-learn.org. See: https://github.com/scikit-learn/scikit-learn/issues/21755 */display: inline-block !important;position: relative;}#sk-container-id-7 div.sk-text-repr-fallback {display: none;}</style><div id=\"sk-container-id-7\" class=\"sk-top-container\"><div class=\"sk-text-repr-fallback\"><pre>RandomForestClassifier(criterion=&#x27;entropy&#x27;, max_depth=15, min_samples_split=5,\n",
       "                       n_estimators=250, random_state=1)</pre><b>In a Jupyter environment, please rerun this cell to show the HTML representation or trust the notebook. <br />On GitHub, the HTML representation is unable to render, please try loading this page with nbviewer.org.</b></div><div class=\"sk-container\" hidden><div class=\"sk-item\"><div class=\"sk-estimator sk-toggleable\"><input class=\"sk-toggleable__control sk-hidden--visually\" id=\"sk-estimator-id-7\" type=\"checkbox\" checked><label for=\"sk-estimator-id-7\" class=\"sk-toggleable__label sk-toggleable__label-arrow\">RandomForestClassifier</label><div class=\"sk-toggleable__content\"><pre>RandomForestClassifier(criterion=&#x27;entropy&#x27;, max_depth=15, min_samples_split=5,\n",
       "                       n_estimators=250, random_state=1)</pre></div></div></div></div></div>"
      ],
      "text/plain": [
       "RandomForestClassifier(criterion='entropy', max_depth=15, min_samples_split=5,\n",
       "                       n_estimators=250, random_state=1)"
      ]
     },
     "execution_count": 57,
     "metadata": {},
     "output_type": "execute_result"
    }
   ],
   "source": [
    "from sklearn.ensemble import RandomForestClassifier\n",
    "classifier = RandomForestClassifier(criterion = \"entropy\", \n",
    "                                random_state = 1,\n",
    "                                  n_estimators = 250,\n",
    "                                  max_depth = 15, \n",
    "                                  min_samples_split = 5,\n",
    "                                  min_samples_leaf = 1)\n",
    "classifier.fit(Xtr, Ytr)"
   ]
  },
  {
   "cell_type": "code",
   "execution_count": 51,
   "metadata": {},
   "outputs": [],
   "source": [
    "Yprd=np.around(classifier.predict(Xts),0)\n"
   ]
  },
  {
   "cell_type": "code",
   "execution_count": null,
   "metadata": {},
   "outputs": [],
   "source": [
    "Yprd"
   ]
  },
  {
   "cell_type": "code",
   "execution_count": 52,
   "metadata": {},
   "outputs": [],
   "source": [
    "result=pd.DataFrame(index=list(test_data['PassengerId']),data={'Survived':Yprd})"
   ]
  },
  {
   "cell_type": "code",
   "execution_count": 53,
   "metadata": {},
   "outputs": [],
   "source": [
    "result.to_csv('gender_submission.csv')"
   ]
  },
  {
   "cell_type": "code",
   "execution_count": 154,
   "metadata": {},
   "outputs": [
    {
     "data": {
      "text/plain": [
       "array([[101,   9],\n",
       "       [ 21,  48]], dtype=int64)"
      ]
     },
     "execution_count": 154,
     "metadata": {},
     "output_type": "execute_result"
    }
   ],
   "source": [
    "from sklearn.metrics import confusion_matrix\n",
    "confusion_matrix(Yts, Yprd)"
   ]
  },
  {
   "cell_type": "code",
   "execution_count": 155,
   "metadata": {},
   "outputs": [
    {
     "data": {
      "text/plain": [
       "0.8324022346368715"
      ]
     },
     "execution_count": 155,
     "metadata": {},
     "output_type": "execute_result"
    }
   ],
   "source": [
    "from sklearn.metrics import accuracy_score\n",
    "accuracy_score(Yts, Yprd)"
   ]
  },
  {
   "cell_type": "code",
   "execution_count": 40,
   "metadata": {},
   "outputs": [],
   "source": [
    "predict=pd.read_csv('gender_submission2.csv')"
   ]
  },
  {
   "cell_type": "code",
   "execution_count": 41,
   "metadata": {},
   "outputs": [],
   "source": [
    "predict=predict.drop('Unnamed: 0',axis=1)"
   ]
  },
  {
   "cell_type": "code",
   "execution_count": null,
   "metadata": {},
   "outputs": [],
   "source": [
    "predict=pd.DataFrame(index=list(predict['PassengerId']),data={'Survived':list(predict['Survived'])})"
   ]
  },
  {
   "cell_type": "code",
   "execution_count": 38,
   "metadata": {},
   "outputs": [],
   "source": [
    "predict.index.rename('PassengerId')"
   ]
  },
  {
   "cell_type": "code",
   "execution_count": 35,
   "metadata": {},
   "outputs": [],
   "source": [
    "predict.to_csv('gender_submission.csv')"
   ]
  },
  {
   "cell_type": "code",
   "execution_count": 39,
   "metadata": {},
   "outputs": [
    {
     "data": {
      "text/plain": [
       "Int64Index([ 892,  893,  894,  895,  896,  897,  898,  899,  900,  901,\n",
       "            ...\n",
       "            1300, 1301, 1302, 1303, 1304, 1305, 1306, 1307, 1308, 1309],\n",
       "           dtype='int64', name='PassengerId', length=418)"
      ]
     },
     "execution_count": 39,
     "metadata": {},
     "output_type": "execute_result"
    }
   ],
   "source": [
    "ex"
   ]
  },
  {
   "cell_type": "code",
   "execution_count": null,
   "metadata": {},
   "outputs": [],
   "source": []
  }
 ],
 "metadata": {
  "kernelspec": {
   "display_name": "Python 3.9.13 ('ahmed_env')",
   "language": "python",
   "name": "python3"
  },
  "language_info": {
   "codemirror_mode": {
    "name": "ipython",
    "version": 3
   },
   "file_extension": ".py",
   "mimetype": "text/x-python",
   "name": "python",
   "nbconvert_exporter": "python",
   "pygments_lexer": "ipython3",
   "version": "3.9.13"
  },
  "orig_nbformat": 4,
  "vscode": {
   "interpreter": {
    "hash": "2f16d10a44ab4ce520a9f32d368d047309a5dc00ca161ab78326b3a20e9af2ee"
   }
  }
 },
 "nbformat": 4,
 "nbformat_minor": 2
}
